{
 "cells": [
  {
   "cell_type": "code",
   "execution_count": 469,
   "id": "854a862a-e291-4c92-9bcb-511b3756cc67",
   "metadata": {},
   "outputs": [
    {
     "name": "stdout",
     "output_type": "stream",
     "text": [
      "[[45 40 43 30]\n",
      " [45 28 40 29]\n",
      " [19  2 42  3]\n",
      " [14 48 48 47]\n",
      " [ 2 14 43 22]]\n",
      "30 40 2 14\n"
     ]
    }
   ],
   "source": [
    "import random\n",
    "import numpy as np\n",
    "arr = np.random.randint(1,50,(5,4))\n",
    "print(arr)\n",
    "print(arr[0][3] , arr[1][2] , arr[2][1] , arr[3][0])"
   ]
  },
  {
   "cell_type": "code",
   "execution_count": 470,
   "id": "55eb043e-5502-4397-a22a-e8b65e6aa246",
   "metadata": {},
   "outputs": [
    {
     "name": "stdout",
     "output_type": "stream",
     "text": [
      "[45 45 42 48 43]\n"
     ]
    }
   ],
   "source": [
    "print(np.max(arr,axis = 1))"
   ]
  },
  {
   "cell_type": "code",
   "execution_count": 471,
   "id": "f4186744-9de1-45fa-95d7-9af2ca6c616c",
   "metadata": {},
   "outputs": [
    {
     "data": {
      "text/plain": [
       "array([30, 28, 29, 19,  2,  3, 14,  2, 14, 22])"
      ]
     },
     "execution_count": 471,
     "metadata": {},
     "output_type": "execute_result"
    }
   ],
   "source": [
    "mean = np.mean(arr)\n",
    "arr1 = arr[arr <= mean]\n",
    "arr1"
   ]
  },
  {
   "cell_type": "code",
   "execution_count": 472,
   "id": "bd1c9101-1d2d-4c51-9e47-bbb9b7c13e08",
   "metadata": {},
   "outputs": [
    {
     "name": "stdout",
     "output_type": "stream",
     "text": [
      "[45, 40, 43, 30, 29, 3, 47, 22, 43, 14, 2, 14, 19, 45, 28, 40, 42, 48, 48, 2]\n"
     ]
    }
   ],
   "source": [
    "import numpy as np\n",
    "\n",
    "def numpy_boundary_transversal(matrix):\n",
    "    ans = []\n",
    "    top, bottom = 0, matrix.shape[0] - 1\n",
    "    left, right = 0, matrix.shape[1] - 1\n",
    "\n",
    "    while top <= bottom and left <= right:\n",
    "        for j in range(left, right + 1):\n",
    "            ans.append(matrix[top][j])\n",
    "        top += 1\n",
    "\n",
    "        for i in range(top, bottom + 1):\n",
    "            ans.append(matrix[i][right])\n",
    "        right -= 1\n",
    "\n",
    "        if top <= bottom:\n",
    "            for j in range(right, left - 1, -1):\n",
    "                ans.append(matrix[bottom][j])\n",
    "            bottom -= 1\n",
    "\n",
    "        if left <= right:\n",
    "            for i in range(bottom, top - 1, -1):\n",
    "                ans.append(matrix[i][left])\n",
    "            left += 1\n",
    "\n",
    "    return ans\n",
    "\n",
    "print(numpy_boundary_transversal(arr))"
   ]
  },
  {
   "cell_type": "code",
   "execution_count": 473,
   "id": "427af3f3-66e4-49e9-9291-fe28205c15bb",
   "metadata": {},
   "outputs": [
    {
     "name": "stdout",
     "output_type": "stream",
     "text": [
      "[8.26864764 4.74434756 6.28755211 5.022962   5.90024011 4.7147089\n",
      " 8.28932274 3.84491207 9.34856665 0.15755423 8.77550143 5.42434232\n",
      " 9.98597328 5.74416675 8.21696558 2.85436285 0.08804142 7.55546944\n",
      " 7.51561123 4.62402566]\n"
     ]
    }
   ],
   "source": [
    "#PROBLEM 2\n",
    "arr2 = np.random.rand(20)\n",
    "print(arr2*10)"
   ]
  },
  {
   "cell_type": "code",
   "execution_count": 474,
   "id": "b18e9fbd-8b0c-4166-9abc-1212c9469e9d",
   "metadata": {},
   "outputs": [
    {
     "name": "stdout",
     "output_type": "stream",
     "text": [
      "0.08804141785772712\n"
     ]
    }
   ],
   "source": [
    "print(np.min(arr2*10))"
   ]
  },
  {
   "cell_type": "code",
   "execution_count": 475,
   "id": "ac9c4c6d-8b55-4b84-bf59-c2892f3976bf",
   "metadata": {},
   "outputs": [
    {
     "name": "stdout",
     "output_type": "stream",
     "text": [
      "9.985973282535056\n",
      "5.822203430293399\n"
     ]
    }
   ],
   "source": [
    "print(np.max(arr2*10))\n",
    "print(np.median(arr2*10))"
   ]
  },
  {
   "cell_type": "code",
   "execution_count": 476,
   "id": "c0428ac1-eebc-406d-a1d3-7d8d48764afe",
   "metadata": {},
   "outputs": [
    {
     "data": {
      "text/plain": [
       "array([8.26864764e+00, 2.25088337e+01, 6.28755211e+00, 5.02296200e+00,\n",
       "       5.90024011e+00, 2.22284801e+01, 8.28932274e+00, 1.47833488e+01,\n",
       "       9.34856665e+00, 2.48233338e-02, 8.77550143e+00, 5.42434232e+00,\n",
       "       9.98597328e+00, 5.74416675e+00, 8.21696558e+00, 8.14738728e+00,\n",
       "       7.75129126e-03, 7.55546944e+00, 7.51561123e+00, 2.13816133e+01])"
      ]
     },
     "execution_count": 476,
     "metadata": {},
     "output_type": "execute_result"
    }
   ],
   "source": [
    "arr3 = arr2*10\n",
    "arr3 = np.where(arr3 >= 5, arr3, (arr3) * (arr3))\n",
    "arr3"
   ]
  },
  {
   "cell_type": "code",
   "execution_count": 477,
   "id": "94bab5b5-7602-43a8-a88e-051e95b9cc38",
   "metadata": {},
   "outputs": [
    {
     "name": "stdout",
     "output_type": "stream",
     "text": [
      "[2 9 3 7 4 6]\n"
     ]
    }
   ],
   "source": [
    "def numpy_alternate_sort(arr):\n",
    "    sort_arr = np.sort(arr)\n",
    "    result = []\n",
    "    left = 0 \n",
    "    right = len(arr) - 1\n",
    "    while(left <= right):\n",
    "        result.append(sort_arr[left])\n",
    "        result.append(sort_arr[right])\n",
    "        left += 1\n",
    "        right -= 1\n",
    "\n",
    "    return np.array(result)\n",
    "\n",
    "x = [6,9,2,4,7,3]\n",
    "print(numpy_alternate_sort(x))"
   ]
  },
  {
   "cell_type": "code",
   "execution_count": 478,
   "id": "240251eb-ac93-4fa7-ad90-5de8acb23fdf",
   "metadata": {},
   "outputs": [
    {
     "name": "stdout",
     "output_type": "stream",
     "text": [
      "  Name Subject  Score Grade\n",
      "0    A      MA     75  None\n",
      "1    B      CS     88  None\n",
      "2    C      CE     67  None\n",
      "3    D      CE     79  None\n",
      "4    E      MA     72  None\n",
      "5    F      MA     98  None\n",
      "6    G      CS     69  None\n",
      "7    H      CE     63  None\n",
      "8    I      CS     67  None\n",
      "9    J      MA     72  None\n",
      "  Name Subject  Score Grade\n",
      "0    A      MA     75     C\n",
      "1    B      CS     88     B\n",
      "2    C      CE     67     D\n",
      "3    D      CE     79     C\n",
      "4    E      MA     72     C\n",
      "5    F      MA     98     A\n",
      "6    G      CS     69     D\n",
      "7    H      CE     63     D\n",
      "8    I      CS     67     D\n",
      "9    J      MA     72     C\n",
      "Subject\n",
      "CE    69.666667\n",
      "CS    74.666667\n",
      "MA    79.250000\n",
      "Name: Score, dtype: float64\n"
     ]
    }
   ],
   "source": [
    "#Q.3\n",
    "import pandas as pd\n",
    "df = pd.DataFrame()\n",
    "df['Name'] = ['A','B','C','D','E','F','G','H','I','J']\n",
    "df['Subject'] = ['MA','CS','CE','CE','MA','MA','CS','CE','CS','MA']\n",
    "df['Score'] = np.random.randint(50,101,10)\n",
    "df['Grade'] = None\n",
    "print(df)\n",
    "for i , score in enumerate(df['Score']):\n",
    "    if(score >= 90):\n",
    "        df.loc[i,'Grade'] = 'A'\n",
    "    elif(score >= 80):\n",
    "        df.loc[i,'Grade'] = 'B'\n",
    "    elif(score >= 70):\n",
    "        df.loc[i,'Grade'] = 'C'\n",
    "    elif(score >= 60):\n",
    "        df.loc[i,'Grade'] = 'D'\n",
    "    else:\n",
    "        df.loc[i,'Grade'] = 'F'\n",
    "\n",
    "print(df)\n",
    "new_df = df.groupby('Subject')\n",
    "print(new_df['Score'].mean())"
   ]
  },
  {
   "cell_type": "code",
   "execution_count": 479,
   "id": "d8031d27-a34b-4e6b-9a04-86b4c4d14d8b",
   "metadata": {},
   "outputs": [
    {
     "name": "stdout",
     "output_type": "stream",
     "text": [
      "  Name Subject  Score Grade\n",
      "1    B      CS     88     B\n",
      "5    F      MA     98     A\n"
     ]
    }
   ],
   "source": [
    "def pandas_filter_pass(dataframe):\n",
    "    df1 = df[(df['Grade'] == 'A') | (df['Grade'] == 'B')]\n",
    "    return df1 \n",
    "\n",
    "print(pandas_filter_pass(df))"
   ]
  },
  {
   "cell_type": "code",
   "execution_count": 480,
   "id": "b7e433bc-fdbf-4809-b491-8ed3be551da7",
   "metadata": {},
   "outputs": [
    {
     "data": {
      "text/html": [
       "<div>\n",
       "<style scoped>\n",
       "    .dataframe tbody tr th:only-of-type {\n",
       "        vertical-align: middle;\n",
       "    }\n",
       "\n",
       "    .dataframe tbody tr th {\n",
       "        vertical-align: top;\n",
       "    }\n",
       "\n",
       "    .dataframe thead th {\n",
       "        text-align: right;\n",
       "    }\n",
       "</style>\n",
       "<table border=\"1\" class=\"dataframe\">\n",
       "  <thead>\n",
       "    <tr style=\"text-align: right;\">\n",
       "      <th></th>\n",
       "      <th>Review</th>\n",
       "      <th>Sentiment</th>\n",
       "    </tr>\n",
       "  </thead>\n",
       "  <tbody>\n",
       "    <tr>\n",
       "      <th>0</th>\n",
       "      <td>Every moment was pure gold.</td>\n",
       "      <td>1</td>\n",
       "    </tr>\n",
       "    <tr>\n",
       "      <th>1</th>\n",
       "      <td>Totally unwatchable.</td>\n",
       "      <td>0</td>\n",
       "    </tr>\n",
       "    <tr>\n",
       "      <th>2</th>\n",
       "      <td>One of the best movies I’ve seen this year.</td>\n",
       "      <td>1</td>\n",
       "    </tr>\n",
       "    <tr>\n",
       "      <th>3</th>\n",
       "      <td>I expected more, got so much less.</td>\n",
       "      <td>0</td>\n",
       "    </tr>\n",
       "    <tr>\n",
       "      <th>4</th>\n",
       "      <td>What were they thinking?</td>\n",
       "      <td>0</td>\n",
       "    </tr>\n",
       "    <tr>\n",
       "      <th>...</th>\n",
       "      <td>...</td>\n",
       "      <td>...</td>\n",
       "    </tr>\n",
       "    <tr>\n",
       "      <th>95</th>\n",
       "      <td>Terribly executed.</td>\n",
       "      <td>0</td>\n",
       "    </tr>\n",
       "    <tr>\n",
       "      <th>96</th>\n",
       "      <td>Insult to the audience’s intelligence.</td>\n",
       "      <td>0</td>\n",
       "    </tr>\n",
       "    <tr>\n",
       "      <th>97</th>\n",
       "      <td>I wouldn’t recommend it to anyone.</td>\n",
       "      <td>0</td>\n",
       "    </tr>\n",
       "    <tr>\n",
       "      <th>98</th>\n",
       "      <td>The plot twists were mind-blowing.</td>\n",
       "      <td>1</td>\n",
       "    </tr>\n",
       "    <tr>\n",
       "      <th>99</th>\n",
       "      <td>Uninspired and dull.</td>\n",
       "      <td>0</td>\n",
       "    </tr>\n",
       "  </tbody>\n",
       "</table>\n",
       "<p>100 rows × 2 columns</p>\n",
       "</div>"
      ],
      "text/plain": [
       "                                         Review  Sentiment\n",
       "0                   Every moment was pure gold.          1\n",
       "1                          Totally unwatchable.          0\n",
       "2   One of the best movies I’ve seen this year.          1\n",
       "3            I expected more, got so much less.          0\n",
       "4                      What were they thinking?          0\n",
       "..                                          ...        ...\n",
       "95                           Terribly executed.          0\n",
       "96       Insult to the audience’s intelligence.          0\n",
       "97           I wouldn’t recommend it to anyone.          0\n",
       "98           The plot twists were mind-blowing.          1\n",
       "99                         Uninspired and dull.          0\n",
       "\n",
       "[100 rows x 2 columns]"
      ]
     },
     "execution_count": 480,
     "metadata": {},
     "output_type": "execute_result"
    }
   ],
   "source": [
    "#Q.4\n",
    "positive_reviews = [\n",
    "    \"An absolute masterpiece from start to finish.\",\n",
    "    \"The acting was phenomenal, especially the lead.\",\n",
    "    \"I was smiling throughout the movie.\",\n",
    "    \"Brilliant plot and excellent direction.\",\n",
    "    \"This film restored my faith in cinema.\",\n",
    "    \"A perfect blend of action and emotion.\",\n",
    "    \"One of the best movies I’ve seen this year.\",\n",
    "    \"The cinematography was breathtaking.\",\n",
    "    \"A must-watch for everyone.\",\n",
    "    \"It exceeded all my expectations.\",\n",
    "    \"Heartwarming and beautifully shot.\",\n",
    "    \"The script was clever and engaging.\",\n",
    "    \"Left me inspired and full of joy.\",\n",
    "    \"A cinematic triumph.\",\n",
    "    \"Every moment was pure gold.\",\n",
    "    \"I could watch it again and again.\",\n",
    "    \"The soundtrack was unforgettable.\",\n",
    "    \"Top-notch storytelling!\",\n",
    "    \"The emotional depth was incredible.\",\n",
    "    \"The director did a fantastic job.\",\n",
    "    \"Absolutely loved it!\",\n",
    "    \"Flawless in every way.\",\n",
    "    \"Characters were well-developed.\",\n",
    "    \"The plot twists were mind-blowing.\",\n",
    "    \"Oscar-worthy performances.\",\n",
    "    \"Such a satisfying ending.\",\n",
    "    \"Great balance of humor and drama.\",\n",
    "    \"Visually stunning from start to end.\",\n",
    "    \"Left the theater with a smile.\",\n",
    "    \"Exceeded even the hype.\",\n",
    "    \"Genuinely touching.\",\n",
    "    \"Completely absorbing.\",\n",
    "    \"A delightful experience.\",\n",
    "    \"Pure entertainment.\",\n",
    "    \"Packed with memorable moments.\",\n",
    "    \"A true gem.\",\n",
    "    \"It had me hooked from the first scene.\",\n",
    "    \"Smart, funny, and heartfelt.\",\n",
    "    \"A refreshing take on the genre.\",\n",
    "    \"Hands down, a great film.\",\n",
    "    \"Would recommend to everyone.\",\n",
    "    \"Just wow. Absolutely brilliant.\",\n",
    "    \"Deserves all the praise it's getting.\",\n",
    "    \"A five-star experience.\",\n",
    "    \"Blew me away.\",\n",
    "    \"Impressive performances all around.\",\n",
    "    \"Every scene was crafted with care.\",\n",
    "    \"Such a beautiful story.\",\n",
    "    \"A modern classic.\",\n",
    "    \"Loved every second.\"\n",
    "]\n",
    "\n",
    "negative_reviews = [\n",
    "    \"A complete waste of time.\",\n",
    "    \"The acting was wooden and lifeless.\",\n",
    "    \"I struggled to stay awake.\",\n",
    "    \"The plot made no sense at all.\",\n",
    "    \"Terribly executed.\",\n",
    "    \"One of the worst movies I’ve ever seen.\",\n",
    "    \"The dialogue was cringeworthy.\",\n",
    "    \"Painfully slow and boring.\",\n",
    "    \"I regret watching it.\",\n",
    "    \"Couldn't finish it.\",\n",
    "    \"What were they thinking?\",\n",
    "    \"The story was a mess.\",\n",
    "    \"Horrible pacing.\",\n",
    "    \"It lacked everything a good movie should have.\",\n",
    "    \"Bad acting and worse writing.\",\n",
    "    \"A disappointment in every way.\",\n",
    "    \"Totally unwatchable.\",\n",
    "    \"I want my two hours back.\",\n",
    "    \"Cliché after cliché.\",\n",
    "    \"Sounded like it was written by a child.\",\n",
    "    \"Characters were flat and forgettable.\",\n",
    "    \"So bad, it’s funny.\",\n",
    "    \"Complete garbage.\",\n",
    "    \"Why did they even make this?\",\n",
    "    \"I wouldn’t recommend it to anyone.\",\n",
    "    \"Uninspired and dull.\",\n",
    "    \"The ending made no sense.\",\n",
    "    \"Awful special effects.\",\n",
    "    \"Zero emotional impact.\",\n",
    "    \"Truly pathetic effort.\",\n",
    "    \"Insult to the audience’s intelligence.\",\n",
    "    \"This film is a disaster.\",\n",
    "    \"Fell completely flat.\",\n",
    "    \"The jokes didn’t land.\",\n",
    "    \"It was just noise and chaos.\",\n",
    "    \"Forgettable in every way.\",\n",
    "    \"Poorly directed and poorly acted.\",\n",
    "    \"I expected more, got so much less.\",\n",
    "    \"Nothing redeemable here.\",\n",
    "    \"Even the trailer was misleading.\",\n",
    "    \"Absolute flop.\",\n",
    "    \"Left the theater annoyed.\",\n",
    "    \"Predictable and dry.\",\n",
    "    \"The hype was totally undeserved.\",\n",
    "    \"Embarrassing to watch.\",\n",
    "    \"Just bad, plain and simple.\",\n",
    "    \"Terrible on every level.\",\n",
    "    \"Would not recommend.\",\n",
    "    \"A frustrating experience.\",\n",
    "    \"Cringed all the way through.\"\n",
    "]\n",
    "\n",
    "all_reviews = list(zip(positive_reviews, [1]*50)) + list(zip(negative_reviews, [0]*50))\n",
    "random.shuffle(all_reviews)\n",
    "\n",
    "nlp_df = pd.DataFrame(all_reviews, columns=['Review', 'Sentiment'])\n",
    "nlp_df"
   ]
  },
  {
   "cell_type": "code",
   "execution_count": 481,
   "id": "6871e5ca-22a6-4a0a-abdb-0444a3f9a21b",
   "metadata": {},
   "outputs": [
    {
     "name": "stdout",
     "output_type": "stream",
     "text": [
      "[[0 0 0 0 0 0 0 0 0 0 0 0 0 0 0 0 0 0 0 0 0 0 0 0 0 0 0 0 0 0 0 0 0 0 0 0\n",
      "  0 0 0 0 0 0 0 0 0 0 0 0 0 0 0 0 0 0 0 0 0 0 0 0 0 0 0 0 0 0 0 0 0 0 0 0\n",
      "  0 0 0 0 0 0 0 0 0 0 0 0 0 0 0 0 0 0 0 0 0 0 0 0 0 0 0 0 0 0 0 0 0 0 0 0\n",
      "  0 0 0 0 0 0 0 0 0 0 0 0 0 0 0 0 0 0 0 0 0 0 0 0 0 0 0 0 0 0 0 0 0 0 0 0\n",
      "  0 0 0 0 1 0 0 0 0 0 0 0 0 0 0 0 0 0 0 0 0 0 0 0 0 0 0 0 0 0 0 0 0 0 0 0\n",
      "  0 0 0 0 0 0 0 0 0 0 0 0 0 0 0 0 0 0 0 0 0 0 0 0 0 0 0 0 0 0 1 1 0 0 0 0\n",
      "  0 0 0 0 0 0 0 0 0 0 0 0 0 0 0 0 0 0 0 0 0 0 0 0 0 0 0 0 0 0 0 1 0 1 0 0\n",
      "  0 0 0 0 0 0 0 0 0 0 0 0 0 0 0 0 0 0 0 0 0 0 0 0 0 0 0 0 0 0 0 0 0 0 0 0\n",
      "  0 0 0 0 0 0 0 0 0 0 0 0 0 0 0 0 0 0 0 0 0 0 0 0 0 0 0 0 0 0 0 0 0 0 0 0\n",
      "  0 0 0 0 0 0 0 0 0 0 0 0 0 0 0 0 0 0 0 0 0 0 0 0 0 0 0 0 0]]\n"
     ]
    }
   ],
   "source": [
    "from sklearn.feature_extraction.text import CountVectorizer\n",
    "cv = CountVectorizer(max_features = 500 , stop_words = 'english', ngram_range = (1,2))\n",
    "\n",
    "bow = cv.fit_transform(nlp_df['Review'])\n",
    "print(bow[0].toarray())"
   ]
  },
  {
   "cell_type": "code",
   "execution_count": 482,
   "id": "f6743976-2845-45e2-b19e-73befea4e72b",
   "metadata": {},
   "outputs": [],
   "source": [
    "from sklearn.model_selection import train_test_split\n",
    "y = nlp_df['Sentiment']\n",
    "X_train , X_test , y_train , y_test = train_test_split(bow,y,test_size = 0.2, random_state = 23)"
   ]
  },
  {
   "cell_type": "code",
   "execution_count": 483,
   "id": "793beaea-3906-4188-9779-4e3966f93db1",
   "metadata": {},
   "outputs": [
    {
     "data": {
      "text/plain": [
       "(80, 353)"
      ]
     },
     "execution_count": 483,
     "metadata": {},
     "output_type": "execute_result"
    }
   ],
   "source": [
    "X_train.shape"
   ]
  },
  {
   "cell_type": "code",
   "execution_count": 484,
   "id": "695d1fa7-49aa-49fb-8716-8ed64cdc5aef",
   "metadata": {},
   "outputs": [
    {
     "name": "stdout",
     "output_type": "stream",
     "text": [
      "Test Accuracy: 65.00\n"
     ]
    }
   ],
   "source": [
    "from sklearn.naive_bayes import MultinomialNB\n",
    "from sklearn.metrics import accuracy_score\n",
    "\n",
    "model = MultinomialNB()\n",
    "model.fit(X_train, y_train)\n",
    "\n",
    "y_pred = model.predict(X_test)\n",
    "\n",
    "accuracy = accuracy_score(y_test, y_pred)\n",
    "accuracy = accuracy*100\n",
    "print(f\"Test Accuracy: {accuracy:.2f}\")"
   ]
  },
  {
   "cell_type": "code",
   "execution_count": 485,
   "id": "1c9429bd-5cec-45ed-ac42-db6c0473b627",
   "metadata": {},
   "outputs": [
    {
     "name": "stdout",
     "output_type": "stream",
     "text": [
      "[1]\n",
      "1\n"
     ]
    }
   ],
   "source": [
    "def predict_review_sentiment(modl,vectorizer,review):\n",
    "    x = vectorizer.transform([review])\n",
    "    pred = modl.predict(x)\n",
    "    return pred\n",
    "\n",
    "print(predict_review_sentiment(model,cv,nlp_df['Review'][0]))\n",
    "print(nlp_df['Sentiment'][0])"
   ]
  },
  {
   "cell_type": "code",
   "execution_count": 486,
   "id": "1355da65-a5a2-4435-a75a-fd0bc6abf7b8",
   "metadata": {},
   "outputs": [
    {
     "data": {
      "text/html": [
       "<div>\n",
       "<style scoped>\n",
       "    .dataframe tbody tr th:only-of-type {\n",
       "        vertical-align: middle;\n",
       "    }\n",
       "\n",
       "    .dataframe tbody tr th {\n",
       "        vertical-align: top;\n",
       "    }\n",
       "\n",
       "    .dataframe thead th {\n",
       "        text-align: right;\n",
       "    }\n",
       "</style>\n",
       "<table border=\"1\" class=\"dataframe\">\n",
       "  <thead>\n",
       "    <tr style=\"text-align: right;\">\n",
       "      <th></th>\n",
       "      <th>Review</th>\n",
       "      <th>Sentiment</th>\n",
       "    </tr>\n",
       "  </thead>\n",
       "  <tbody>\n",
       "    <tr>\n",
       "      <th>0</th>\n",
       "      <td>Totally useless.</td>\n",
       "      <td>0</td>\n",
       "    </tr>\n",
       "    <tr>\n",
       "      <th>1</th>\n",
       "      <td>Stopped working within a week.</td>\n",
       "      <td>0</td>\n",
       "    </tr>\n",
       "    <tr>\n",
       "      <th>2</th>\n",
       "      <td>Extremely satisfied with this.</td>\n",
       "      <td>1</td>\n",
       "    </tr>\n",
       "    <tr>\n",
       "      <th>3</th>\n",
       "      <td>I regret buying this.</td>\n",
       "      <td>0</td>\n",
       "    </tr>\n",
       "    <tr>\n",
       "      <th>4</th>\n",
       "      <td>Perfect gift for anyone.</td>\n",
       "      <td>1</td>\n",
       "    </tr>\n",
       "    <tr>\n",
       "      <th>...</th>\n",
       "      <td>...</td>\n",
       "      <td>...</td>\n",
       "    </tr>\n",
       "    <tr>\n",
       "      <th>95</th>\n",
       "      <td>Very disappointed with the quality.</td>\n",
       "      <td>0</td>\n",
       "    </tr>\n",
       "    <tr>\n",
       "      <th>96</th>\n",
       "      <td>It’s very noisy and annoying.</td>\n",
       "      <td>0</td>\n",
       "    </tr>\n",
       "    <tr>\n",
       "      <th>97</th>\n",
       "      <td>Already looking for a replacement.</td>\n",
       "      <td>0</td>\n",
       "    </tr>\n",
       "    <tr>\n",
       "      <th>98</th>\n",
       "      <td>Shipping took forever.</td>\n",
       "      <td>0</td>\n",
       "    </tr>\n",
       "    <tr>\n",
       "      <th>99</th>\n",
       "      <td>Seller was unresponsive.</td>\n",
       "      <td>0</td>\n",
       "    </tr>\n",
       "  </tbody>\n",
       "</table>\n",
       "<p>100 rows × 2 columns</p>\n",
       "</div>"
      ],
      "text/plain": [
       "                                 Review  Sentiment\n",
       "0                      Totally useless.          0\n",
       "1        Stopped working within a week.          0\n",
       "2        Extremely satisfied with this.          1\n",
       "3                 I regret buying this.          0\n",
       "4              Perfect gift for anyone.          1\n",
       "..                                  ...        ...\n",
       "95  Very disappointed with the quality.          0\n",
       "96        It’s very noisy and annoying.          0\n",
       "97   Already looking for a replacement.          0\n",
       "98               Shipping took forever.          0\n",
       "99             Seller was unresponsive.          0\n",
       "\n",
       "[100 rows x 2 columns]"
      ]
     },
     "execution_count": 486,
     "metadata": {},
     "output_type": "execute_result"
    }
   ],
   "source": [
    "#Q.5\n",
    "good_feedback = [\n",
    "    \"Loved the product!\",\n",
    "    \"Excellent quality and fast delivery.\",\n",
    "    \"Highly recommend this item.\",\n",
    "    \"Very satisfied with my purchase.\",\n",
    "    \"Works perfectly as expected.\",\n",
    "    \"Amazing value for the price.\",\n",
    "    \"The product exceeded my expectations.\",\n",
    "    \"Five stars, will buy again!\",\n",
    "    \"Smooth and easy experience.\",\n",
    "    \"The material feels premium.\",\n",
    "    \"Product arrived in great condition.\",\n",
    "    \"Very useful and well-designed.\",\n",
    "    \"Definitely worth the money.\",\n",
    "    \"The packaging was top-notch.\",\n",
    "    \"It works like a charm.\",\n",
    "    \"Looks exactly like the pictures.\",\n",
    "    \"Fits perfectly and looks great.\",\n",
    "    \"Great support from the seller.\",\n",
    "    \"This is my second time buying it.\",\n",
    "    \"I’m impressed with the performance.\",\n",
    "    \"Reliable and efficient product.\",\n",
    "    \"It’s become part of my daily routine.\",\n",
    "    \"Couldn’t be happier with this.\",\n",
    "    \"A pleasant surprise overall.\",\n",
    "    \"The battery lasts really long.\",\n",
    "    \"Build quality is excellent.\",\n",
    "    \"Would absolutely recommend to friends.\",\n",
    "    \"Everything about it is perfect.\",\n",
    "    \"Simple yet very effective.\",\n",
    "    \"Great for everyday use.\",\n",
    "    \"Met all my expectations.\",\n",
    "    \"Nice finish and detailing.\",\n",
    "    \"Easy to set up and use.\",\n",
    "    \"Great value for money.\",\n",
    "    \"Very comfortable to use.\",\n",
    "    \"Product is exactly as described.\",\n",
    "    \"Nice color and texture.\",\n",
    "    \"Super fast shipping.\",\n",
    "    \"I use it daily now.\",\n",
    "    \"Feels durable and strong.\",\n",
    "    \"Perfect gift for anyone.\",\n",
    "    \"Extremely satisfied with this.\",\n",
    "    \"Better than other brands.\",\n",
    "    \"Performs well under heavy use.\",\n",
    "    \"Truly a must-have item.\",\n",
    "    \"No complaints at all.\",\n",
    "    \"Efficient and well-built.\",\n",
    "    \"This was a great buy.\",\n",
    "    \"Totally worth the price.\",\n",
    "    \"Feels like a premium product.\"\n",
    "]\n",
    "\n",
    "bad_feedback = [\n",
    "    \"Terrible experience overall.\",\n",
    "    \"The product broke after one use.\",\n",
    "    \"Not worth the money.\",\n",
    "    \"Very disappointed with the quality.\",\n",
    "    \"Did not match the description.\",\n",
    "    \"Late delivery and poor packaging.\",\n",
    "    \"Stopped working within a week.\",\n",
    "    \"Waste of money.\",\n",
    "    \"I regret buying this.\",\n",
    "    \"Would not recommend to anyone.\",\n",
    "    \"Feels cheap and flimsy.\",\n",
    "    \"The size was completely wrong.\",\n",
    "    \"Color faded after first wash.\",\n",
    "    \"Seller was unresponsive.\",\n",
    "    \"Not satisfied at all.\",\n",
    "    \"Item arrived damaged.\",\n",
    "    \"Doesn't work as advertised.\",\n",
    "    \"Too expensive for what it offers.\",\n",
    "    \"Not as good as expected.\",\n",
    "    \"Bad build quality.\",\n",
    "    \"Very uncomfortable to use.\",\n",
    "    \"Already looking for a replacement.\",\n",
    "    \"Worst product I’ve bought.\",\n",
    "    \"Returned it immediately.\",\n",
    "    \"No support from seller.\",\n",
    "    \"Looks nothing like the pictures.\",\n",
    "    \"The instructions were unclear.\",\n",
    "    \"Installation was a nightmare.\",\n",
    "    \"It’s very noisy and annoying.\",\n",
    "    \"Did not meet expectations.\",\n",
    "    \"Battery life is terrible.\",\n",
    "    \"Not durable at all.\",\n",
    "    \"Totally useless.\",\n",
    "    \"Feels like a scam.\",\n",
    "    \"Poor quality control.\",\n",
    "    \"Don’t waste your money.\",\n",
    "    \"Wrong item delivered.\",\n",
    "    \"Looks cheap and fragile.\",\n",
    "    \"It was a huge letdown.\",\n",
    "    \"Barely works properly.\",\n",
    "    \"Doesn’t serve the purpose.\",\n",
    "    \"Performance is below average.\",\n",
    "    \"Misleading product listing.\",\n",
    "    \"It heats up quickly.\",\n",
    "    \"Feels like second-hand.\",\n",
    "    \"Packaging was torn.\",\n",
    "    \"Stopped charging after 2 days.\",\n",
    "    \"Disappointed beyond words.\",\n",
    "    \"Shipping took forever.\",\n",
    "    \"Doesn’t fit at all.\"\n",
    "]\n",
    "\n",
    "dataset = list(zip(good_feedback, [1]*50)) + list(zip(bad_feedback, [0]*50))\n",
    "random.shuffle(dataset)\n",
    "\n",
    "q5_df = pd.DataFrame(dataset,columns = ['Review','Sentiment'])\n",
    "q5_df"
   ]
  },
  {
   "cell_type": "code",
   "execution_count": 487,
   "id": "781c764f-bb78-4a79-8e7b-dc69fc1c34e1",
   "metadata": {},
   "outputs": [
    {
     "data": {
      "text/plain": [
       "(80, 353)"
      ]
     },
     "execution_count": 487,
     "metadata": {},
     "output_type": "execute_result"
    }
   ],
   "source": [
    "from sklearn.feature_extraction.text import TfidfVectorizer\n",
    "tfidf = TfidfVectorizer(max_features = 300, stop_words = 'english',lowercase = True,  ngram_range=(1,3))\n",
    "X1 = tfidf.fit_transform(q5_df['Review'])\n",
    "y1 = q5_df['Sentiment']\n",
    "\n",
    "X_train1 , X_test1 , y_train1 , y_test1 = train_test_split(X1,y1,test_size = 0.25, random_state = 3)\n",
    "X_train.shape"
   ]
  },
  {
   "cell_type": "code",
   "execution_count": 488,
   "id": "e28cbcb4-ef6f-4cf5-8da8-4ea026d392bc",
   "metadata": {},
   "outputs": [
    {
     "name": "stdout",
     "output_type": "stream",
     "text": [
      "Precision: 0.75\n",
      "Recall:    0.20\n",
      "F1 Score:  0.32\n",
      "Test Accuracy: 48.00\n"
     ]
    }
   ],
   "source": [
    "from sklearn.linear_model import LogisticRegression\n",
    "from sklearn.metrics import precision_score, recall_score, f1_score , accuracy_score\n",
    "\n",
    "model = LogisticRegression()\n",
    "model.fit(X_train1, y_train1)\n",
    "\n",
    "y_pred1 = model.predict(X_test1)\n",
    "\n",
    "precision = precision_score(y_test1, y_pred1)\n",
    "recall = recall_score(y_test1, y_pred1)\n",
    "f1 = f1_score(y_test1, y_pred1)\n",
    "\n",
    "print(f\"Precision: {precision:.2f}\")\n",
    "print(f\"Recall:    {recall:.2f}\")\n",
    "print(f\"F1 Score:  {f1:.2f}\")\n",
    "\n",
    "accuracy = accuracy_score(y_test1, y_pred1)\n",
    "accuracy = accuracy*100\n",
    "print(f\"Test Accuracy: {accuracy:.2f}\")"
   ]
  },
  {
   "cell_type": "code",
   "execution_count": null,
   "id": "91aaab1b-7a1d-4027-beb1-2d0087e52c9c",
   "metadata": {},
   "outputs": [],
   "source": []
  }
 ],
 "metadata": {
  "kernelspec": {
   "display_name": "Python [conda env:base] *",
   "language": "python",
   "name": "conda-base-py"
  },
  "language_info": {
   "codemirror_mode": {
    "name": "ipython",
    "version": 3
   },
   "file_extension": ".py",
   "mimetype": "text/x-python",
   "name": "python",
   "nbconvert_exporter": "python",
   "pygments_lexer": "ipython3",
   "version": "3.12.7"
  }
 },
 "nbformat": 4,
 "nbformat_minor": 5
}
